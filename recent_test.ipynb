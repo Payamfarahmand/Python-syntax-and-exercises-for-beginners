{
  "nbformat": 4,
  "nbformat_minor": 0,
  "metadata": {
    "colab": {
      "provenance": [],
      "authorship_tag": "ABX9TyM/t971xv8f01FBiONRv6yp",
      "include_colab_link": true
    },
    "kernelspec": {
      "name": "python3",
      "display_name": "Python 3"
    },
    "language_info": {
      "name": "python"
    }
  },
  "cells": [
    {
      "cell_type": "markdown",
      "metadata": {
        "id": "view-in-github",
        "colab_type": "text"
      },
      "source": [
        "<a href=\"https://colab.research.google.com/github/Payamfarahmand/ex.Conditional-Statements-and-Loops-beginner/blob/main/recent_test.ipynb\" target=\"_parent\"><img src=\"https://colab.research.google.com/assets/colab-badge.svg\" alt=\"Open In Colab\"/></a>"
      ]
    },
    {
      "cell_type": "code",
      "execution_count": null,
      "metadata": {
        "colab": {
          "base_uri": "https://localhost:8080/"
        },
        "id": "ZN5LEuKp0VsU",
        "outputId": "3a631cff-8fa8-4467-a8a2-d48212cf8c8d"
      },
      "outputs": [
        {
          "output_type": "stream",
          "name": "stdout",
          "text": [
            "0 ODD 2 ODD 4 ODD 6 ODD 8 ODD 10 ODD 12 ODD 14 ODD 16 ODD 18 ODD 20 "
          ]
        }
      ],
      "source": [
        "# This program prints numbers from 0 to 20.\n",
        "# If a number is even, it prints the number.\n",
        "# If a number is odd, it prints the word \"ODD\".\n",
        "\n",
        "for n in range(21):  # Loop through numbers from 0 to 20 (inclusive)\n",
        "    if n % 2 == 0:  # Check if the number is even (remainder of division by 2 is 0)\n",
        "        print(n, end=\" \")  # Print the even number followed by a space\n",
        "    else:  # If the number is not even, it must be odd\n",
        "        print(\"ODD\", end=\" \")  # Print \"ODD\" followed by a space\n"
      ]
    },
    {
      "cell_type": "markdown",
      "source": [
        "This program prints numbers from 0 to 20.\n",
        "If a number is even, it prints the number.\n",
        "If a number is odd, it prints the word \"ODD\"."
      ],
      "metadata": {
        "id": "X4yNaUg63A7N"
      }
    },
    {
      "cell_type": "code",
      "source": [
        "x = [0,1,2]\n",
        "for item in x :\n",
        "    print(item,end=\" \")"
      ],
      "metadata": {
        "colab": {
          "base_uri": "https://localhost:8080/"
        },
        "id": "2aGXEJ6z2EbI",
        "outputId": "caa6602c-0df0-4a81-ca60-dc87c32f260f"
      },
      "execution_count": null,
      "outputs": [
        {
          "output_type": "stream",
          "name": "stdout",
          "text": [
            "0 1 2 "
          ]
        }
      ]
    },
    {
      "cell_type": "markdown",
      "source": [
        "This Code read a list and pass the each valuae of list to varibale that named item and repate to read all the value and print in this result and end=\" \" that print all data in a line with the Space ."
      ],
      "metadata": {
        "id": "XPKNQs5C3oFm"
      }
    },
    {
      "cell_type": "code",
      "source": [
        "for item in range(len(x)):\n",
        "  print(x[item], end=\" \")"
      ],
      "metadata": {
        "colab": {
          "base_uri": "https://localhost:8080/"
        },
        "id": "cEFzCOv73_vV",
        "outputId": "d8c9aee5-33e7-4d9d-d57d-5d9a771b6528"
      },
      "execution_count": null,
      "outputs": [
        {
          "output_type": "stream",
          "name": "stdout",
          "text": [
            "0 1 2 "
          ]
        }
      ]
    },
    {
      "cell_type": "markdown",
      "source": [
        "in this practice we want to use len that show len of the list and put it in the range that range genrate and with the number of the list then in print with x[] we show the position of the list print and if there is value  print it out"
      ],
      "metadata": {
        "id": "-csXQbbg5Wfu"
      }
    },
    {
      "cell_type": "code",
      "source": [
        "for n in range(1,11):\n",
        "    print(n*2,end =\" \")"
      ],
      "metadata": {
        "colab": {
          "base_uri": "https://localhost:8080/"
        },
        "id": "faR72Fs85xId",
        "outputId": "f02a7389-4ac5-4007-ee4f-faf1cd8f4ffd"
      },
      "execution_count": null,
      "outputs": [
        {
          "output_type": "stream",
          "name": "stdout",
          "text": [
            "1 4 9 16 25 36 49 64 81 100 "
          ]
        }
      ]
    },
    {
      "cell_type": "markdown",
      "source": [
        "Conditional Statements and Loops - Exercise #1\n",
        "Create a For loop that will print all the variables from a given list multiplied by 2. Let the list contain all numbers from 1 to 10. Create it with the help of the range() function."
      ],
      "metadata": {
        "id": "daEFhktb7Bp4"
      }
    },
    {
      "cell_type": "code",
      "source": [
        "for n in range(1,31):\n",
        "    if n % 2 != 0 :\n",
        "        print(n,end = \" \")\n",
        "    else:\n",
        "        print(\"Even\", end = \" \")"
      ],
      "metadata": {
        "colab": {
          "base_uri": "https://localhost:8080/"
        },
        "id": "ujG3rd7p9V3c",
        "outputId": "3e844415-8e1e-49ca-b5bb-d8cc05480d61"
      },
      "execution_count": null,
      "outputs": [
        {
          "output_type": "stream",
          "name": "stdout",
          "text": [
            "1 Even 3 Even 5 Even 7 Even 9 Even 11 Even 13 Even 15 Even 17 Even 19 Even 21 Even 23 Even 25 Even 27 Even 29 Even "
          ]
        }
      ]
    },
    {
      "cell_type": "markdown",
      "source": [
        "Conditional Statements and Loops - Exercise #2\n",
        "Create a small program that runs a loop over all values from 1 to 30. Let it print all odd numbers on the same line, and in the place of the even numbers, it should print \"Even\". Use the range() function to help solve this exercise."
      ],
      "metadata": {
        "id": "EDo2QA_R-PrW"
      }
    },
    {
      "cell_type": "code",
      "source": [
        "# Loop through numbers from 1 to 30\n",
        "for n in range(1, 31):\n",
        "    if n % 2 == 0:\n",
        "        print(\"Even\", end=\" \")  # Print \"Even\" for even numbers\n",
        "    else:\n",
        "        print(n, end=\" \")  # Print the number for odd numbers\n"
      ],
      "metadata": {
        "colab": {
          "base_uri": "https://localhost:8080/"
        },
        "id": "ueHMD_DS-TJO",
        "outputId": "d33f1f93-40ae-4d68-b81d-39c6f3b365f2"
      },
      "execution_count": null,
      "outputs": [
        {
          "output_type": "stream",
          "name": "stdout",
          "text": [
            "1 Even 3 Even 5 Even 7 Even 9 Even 11 Even 13 Even 15 Even 17 Even 19 Even 21 Even 23 Even 25 Even 27 Even 29 Even "
          ]
        }
      ]
    },
    {
      "cell_type": "markdown",
      "source": [
        "Another way to Write that Show Even the same as Upper Example"
      ],
      "metadata": {
        "id": "ovhthamt-b51"
      }
    },
    {
      "cell_type": "code",
      "source": [
        "n = [1,2,3,4,5,6]\n",
        "for item in range(len(n)):\n",
        "\n",
        "    print(n[item]*10 , end=\" \")"
      ],
      "metadata": {
        "colab": {
          "base_uri": "https://localhost:8080/"
        },
        "id": "hU9BXPrf_pBH",
        "outputId": "e59ca231-f00d-4f3a-eb46-f7a2f1e62820"
      },
      "execution_count": null,
      "outputs": [
        {
          "output_type": "stream",
          "name": "stdout",
          "text": [
            "10 20 30 40 50 60 "
          ]
        }
      ]
    },
    {
      "cell_type": "markdown",
      "source": [
        "You have the following list of numbers. Iterate over this list, printing out each list value multiplied by 10. Find two solutions of this problem."
      ],
      "metadata": {
        "id": "z282A_Zv_ufV"
      }
    },
    {
      "cell_type": "code",
      "source": [
        "n = [1,2,3,4,5,6]\n",
        "for item in n:\n",
        "\n",
        "    print(item*10 , end=\" \")"
      ],
      "metadata": {
        "colab": {
          "base_uri": "https://localhost:8080/"
        },
        "id": "fVB5-E_K_wf1",
        "outputId": "d10748ff-115b-49b5-a458-6c547eab0d46"
      },
      "execution_count": null,
      "outputs": [
        {
          "output_type": "stream",
          "name": "stdout",
          "text": [
            "10 20 30 40 50 60 "
          ]
        }
      ]
    },
    {
      "cell_type": "markdown",
      "source": [
        "secound Soloution"
      ],
      "metadata": {
        "id": "WuFTIvDKAEjN"
      }
    },
    {
      "cell_type": "code",
      "source": [
        "nums = [1, 35, 12, 24, 31, 51, 70, 100]\n",
        "\n",
        "def count():\n",
        "    i = 0  # Index for the while loop\n",
        "    count = 0  # Variable to keep track of the count\n",
        "    while i < len(nums):\n",
        "        if nums[i] < 20:\n",
        "            count += 1\n",
        "        i += 1\n",
        "    return count\n",
        "\n",
        "# Call the function\n",
        "result = count()\n",
        "print(result)  # Output the result\n"
      ],
      "metadata": {
        "colab": {
          "base_uri": "https://localhost:8080/"
        },
        "id": "LA7F_T5oq4Qe",
        "outputId": "a0444694-2392-433a-de13-9a1528b214f6"
      },
      "execution_count": 1,
      "outputs": [
        {
          "output_type": "stream",
          "name": "stdout",
          "text": [
            "2\n"
          ]
        }
      ]
    },
    {
      "cell_type": "markdown",
      "source": [
        "Conditional Statements, Functions, and Loops - Exercise #1\n",
        "You are provided with the nums list. Define a function called count() containing a while loop to count the number of values in the nums list that are lower than 20."
      ],
      "metadata": {
        "id": "Lj1U_WqSq-23"
      }
    },
    {
      "cell_type": "code",
      "source": [
        "prices = {\n",
        "    \"box_of_spaghetti\": 4,\n",
        "    \"lasagna\": 5,\n",
        "    \"hamburger\": 2\n",
        "}\n",
        "\n",
        "quantity = {\n",
        "    \"box_of_spaghetti\": 6,\n",
        "    \"lasagna\": 10,\n",
        "    \"hamburger\": 0\n",
        "}\n",
        "\n",
        "money_spent = 0\n",
        "\n",
        "# Iterate over the products in the prices dictionary\n",
        "for product in prices:\n",
        "    if prices[product] >= 5:  # Check if the price is 5 dollars or more\n",
        "        money_spent += prices[product] * quantity[product]\n",
        "\n",
        "print(money_spent)  # Output the total money spent on items costing 5 dollars or more\n"
      ],
      "metadata": {
        "colab": {
          "base_uri": "https://localhost:8080/"
        },
        "id": "qsScvLKzwe7Y",
        "outputId": "8a053e5f-bffc-4560-f482-d026cfb8e67a"
      },
      "execution_count": 2,
      "outputs": [
        {
          "output_type": "stream",
          "name": "stdout",
          "text": [
            "50\n"
          ]
        }
      ]
    },
    {
      "cell_type": "markdown",
      "source": [
        "prices = {\n",
        "    \"box_of_spaghetti\": 4,\n",
        "    \"lasagna\": 5,\n",
        "    \"hamburger\": 2\n",
        "}\n",
        "\n",
        "quantity = {\n",
        "    \"box_of_spaghetti\": 6,\n",
        "    \"lasagna\": 10,\n",
        "    \"hamburger\": 0\n",
        "}\n",
        "In this exercise you will use the same dictionaries as the ones we used in the lesson - prices and quantity. This time, don't just calculate all the money Jan spent. Calculate how much she spent on products with a price of 5 dollars or more.\n"
      ],
      "metadata": {
        "id": "Y87R5PUjwhZO"
      }
    },
    {
      "cell_type": "code",
      "source": [
        "prices = {\n",
        "    \"box_of_spaghetti\" : 4,\n",
        "    \"lasagna\"  : 5,\n",
        "    \"hamburger\" : 2\n",
        "   }\n",
        "quantity = {\n",
        "    \"box_of_spaghetti\" : 6,\n",
        "    \"lasagna\"  : 10,\n",
        "    \"hamburger\" : 0\n",
        "    }\n",
        "money_spent = 0\n",
        "\n",
        "\n",
        "for i in prices :\n",
        "    if prices[i] < 5 :\n",
        "        money_spent += prices[i] * quantity[i]\n",
        "print(money_spent)\n",
        "\n"
      ],
      "metadata": {
        "colab": {
          "base_uri": "https://localhost:8080/"
        },
        "id": "KY1mBOh1zbC4",
        "outputId": "6ed38568-101c-4eef-efc0-f814ecb941e8"
      },
      "execution_count": 4,
      "outputs": [
        {
          "output_type": "stream",
          "name": "stdout",
          "text": [
            "24\n"
          ]
        }
      ]
    },
    {
      "cell_type": "markdown",
      "source": [
        "prices = {\n",
        "    \"box_of_spaghetti\" : 4,\n",
        "    \"lasagna\"  : 5,\n",
        "    \"hamburger\" : 2\n",
        "   }\n",
        "quantity = {\n",
        "    \"box_of_spaghetti\" : 6,\n",
        "    \"lasagna\"  : 10,\n",
        "    \"hamburger\" : 0\n",
        "    }\n",
        "money_spent = 0\n",
        "    How much did Jan spent on products that cost less than 5 dollars?\n",
        "    they need a small change if prices[i]` < `5 :"
      ],
      "metadata": {
        "id": "uyKJSZZnzkIH"
      }
    }
  ]
}